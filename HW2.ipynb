{
 "cells": [
  {
   "cell_type": "markdown",
   "metadata": {},
   "source": [
    "# 作業2\n",
    "- 計算出2005年的S&P500指數日報酬的平均數、標準差、變異數、偏態，峰態\n",
    "- 計算出2015年的S&P500指數日報酬的平均數、標準差、變異數、偏態，峰態\n",
    "- 計算出2018年的S&P500指數日報酬的平均數、標準差、變異數、偏態，峰態\n"
   ]
  },
  {
   "cell_type": "code",
   "execution_count": 1,
   "metadata": {},
   "outputs": [],
   "source": [
    "import numpy as np\n",
    "import pandas as pd\n",
    "import matplotlib.pyplot as plt"
   ]
  },
  {
   "cell_type": "code",
   "execution_count": 2,
   "metadata": {},
   "outputs": [],
   "source": [
    "# 匯入資料\n",
    "# 需先用EXCEL整理好的資料\n",
    "# 資料跟程式碼要放在同一個資料夾\n",
    "data = pd.read_csv('data_SPX.csv')"
   ]
  },
  {
   "cell_type": "code",
   "execution_count": 4,
   "metadata": {},
   "outputs": [],
   "source": [
    "# 計算報酬率\n",
    "data['ret'] = data['Adj Close'].diff() / data['Adj Close'].shift()"
   ]
  },
  {
   "cell_type": "code",
   "execution_count": 5,
   "metadata": {},
   "outputs": [],
   "source": [
    "# 計算log報酬率\n",
    "data['logr'] = np.log(data['Adj Close']).diff()"
   ]
  },
  {
   "cell_type": "code",
   "execution_count": 6,
   "metadata": {},
   "outputs": [],
   "source": [
    "# 抓出2005年的資料\n",
    "data_2005 = data[data.year == 2005]"
   ]
  },
  {
   "cell_type": "code",
   "execution_count": 8,
   "metadata": {},
   "outputs": [
    {
     "data": {
      "text/plain": [
       "0.00013823982674002414"
      ]
     },
     "execution_count": 8,
     "metadata": {},
     "output_type": "execute_result"
    }
   ],
   "source": [
    "# mean\n",
    "data_2005.ret.mean()"
   ]
  },
  {
   "cell_type": "code",
   "execution_count": 9,
   "metadata": {},
   "outputs": [
    {
     "data": {
      "text/plain": [
       "0.006477970597145991"
      ]
     },
     "execution_count": 9,
     "metadata": {},
     "output_type": "execute_result"
    }
   ],
   "source": [
    "# standard deviation\n",
    "data_2005.ret.std()"
   ]
  },
  {
   "cell_type": "code",
   "execution_count": 10,
   "metadata": {},
   "outputs": [
    {
     "data": {
      "text/plain": [
       "4.196410305748799e-05"
      ]
     },
     "execution_count": 10,
     "metadata": {},
     "output_type": "execute_result"
    }
   ],
   "source": [
    "# variance\n",
    "data_2005.ret.var()"
   ]
  },
  {
   "cell_type": "code",
   "execution_count": 11,
   "metadata": {},
   "outputs": [
    {
     "data": {
      "text/plain": [
       "0.002452788454232574"
      ]
     },
     "execution_count": 11,
     "metadata": {},
     "output_type": "execute_result"
    }
   ],
   "source": [
    "# Skewness (S = 0)\n",
    "data_2005.ret.skew()"
   ]
  },
  {
   "cell_type": "code",
   "execution_count": 12,
   "metadata": {},
   "outputs": [
    {
     "data": {
      "text/plain": [
       "2.879456200410908"
      ]
     },
     "execution_count": 12,
     "metadata": {},
     "output_type": "execute_result"
    }
   ],
   "source": [
    "# Kurtosis (K = 3)\n",
    "data_2005.ret.kurt() + 3"
   ]
  },
  {
   "cell_type": "markdown",
   "metadata": {},
   "source": [
    "# 我打算一次把結果跑出來\n",
    "- 那就用迴圈 \n",
    "- `for i in list:`\n",
    "- 記得`for`後面加上冒號\n",
    "- 迴圈內程式記得要縮排(前面四個空格)"
   ]
  },
  {
   "cell_type": "code",
   "execution_count": 12,
   "metadata": {},
   "outputs": [],
   "source": [
    "# 生成一組list\n",
    "List_year = [2005,2015,2018]"
   ]
  },
  {
   "cell_type": "code",
   "execution_count": 13,
   "metadata": {},
   "outputs": [
    {
     "name": "stdout",
     "output_type": "stream",
     "text": [
      "2005\n",
      "2015\n",
      "2018\n"
     ]
    }
   ],
   "source": [
    "# 迴圈用法\n",
    "for i in List_year:\n",
    "    print(i)"
   ]
  },
  {
   "cell_type": "code",
   "execution_count": 26,
   "metadata": {},
   "outputs": [
    {
     "name": "stdout",
     "output_type": "stream",
     "text": [
      "year     mean     std      var      skew     kurt    \n",
      "2005   0.0001   0.0065   0.0000   0.0025   2.8795\n",
      "2015   0.0000   0.0098   0.0001  -0.1686   4.9266\n",
      "2018  -0.0002   0.0107   0.0001  -0.4254   6.1394\n"
     ]
    }
   ],
   "source": [
    "# 利用迴圈將每年的敘述統計量列出\n",
    "for i in List_year:\n",
    "    data_test = data[data.year == i]\n",
    "    a = data_test.ret.mean()\n",
    "    b1 = data_test.ret.std()\n",
    "    b2 = data_test.ret.var()\n",
    "    c = data_test.ret.skew()\n",
    "    d = data_test.ret.kurt() + 3\n",
    "    # 當 i=2005 就執行下列指令，否則跳過\n",
    "    if i == 2005:\n",
    "        # 第一圈，跑出標題列\n",
    "        print(format('year','8s'),format('mean','8s'),format('std','8s'),format('var','8s'),format('skew','8s'),format('kurt','8s'))\n",
    "    print(i, format(a,'8.4f'),format(b1,'8.4f'),format(b2,'8.4f'),format(c,'8.4f'),format(d,'8.4f'))\n",
    "    \n",
    "    "
   ]
  },
  {
   "cell_type": "markdown",
   "metadata": {},
   "source": [
    "# 補充：一些常用資料處理的指令\n",
    "- 刪除列資料 `.drop()`\n",
    "- 排序 `.sort_values(by = 資料名稱)`"
   ]
  },
  {
   "cell_type": "code",
   "execution_count": 9,
   "metadata": {},
   "outputs": [],
   "source": [
    "# 刪除列\n",
    "# data.drop('logr',axis = 1)"
   ]
  },
  {
   "cell_type": "code",
   "execution_count": 10,
   "metadata": {},
   "outputs": [],
   "source": [
    "# 排序 \n",
    "# ascending 決定小到大還是大到小\n",
    "# 對報酬率排序 了解目前日報酬率的分布狀況\n",
    "# data_2005.sort_values(by = ['ret'], ascending=True)\n",
    "# 計算敘述統計量\n",
    "# 可用此指令看出此資料概略模樣\n",
    "# data_2005.ret.describe()"
   ]
  }
 ],
 "metadata": {
  "kernelspec": {
   "display_name": "Python 3",
   "language": "python",
   "name": "python3"
  },
  "language_info": {
   "codemirror_mode": {
    "name": "ipython",
    "version": 3
   },
   "file_extension": ".py",
   "mimetype": "text/x-python",
   "name": "python",
   "nbconvert_exporter": "python",
   "pygments_lexer": "ipython3",
   "version": "3.7.0"
  }
 },
 "nbformat": 4,
 "nbformat_minor": 2
}
